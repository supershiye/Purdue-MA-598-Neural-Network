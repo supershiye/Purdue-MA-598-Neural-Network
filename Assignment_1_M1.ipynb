{
  "nbformat": 4,
  "nbformat_minor": 0,
  "metadata": {
    "colab": {
      "name": "Assignment 1 M1.ipynb",
      "version": "0.3.2",
      "provenance": [],
      "collapsed_sections": []
    },
    "kernelspec": {
      "name": "python3",
      "display_name": "Python 3"
    },
    "accelerator": "GPU"
  },
  "cells": [
    {
      "metadata": {
        "id": "wHg6i-MrwyWB",
        "colab_type": "text"
      },
      "cell_type": "markdown",
      "source": [
        "\n",
        "### Model 1\n",
        "Team member names:  Ye Shi, Shiqi Zhang\n",
        "\n",
        "### To do:  \n",
        "1. Specify the model number above and indicate the team member names.\n",
        "- Specify your model structure below. \n",
        "- Restart kernel and run all.\n",
        "- Answer the questions in the next text box.\n",
        "- Print to pdf.\n",
        "- Combine the pdfs for the 3 models into a single pdf.\n",
        "- Submit on gradescope.  \n"
      ]
    },
    {
      "metadata": {
        "id": "Dc-kKjS_qW20",
        "colab_type": "text"
      },
      "cell_type": "markdown",
      "source": [
        "### Questions:  \n",
        "Give brief (one or two sentence) answers to the questions below.\n",
        "\n",
        "Q1: What are the pros and cons of this model? \n",
        "\n",
        "Answer: It trains fast, but there is no accuracy.\n",
        "\n",
        "Q2:  What do you think would be an efficient way to improve accuracy for this model and why?  This is not so much about being right or wrong as about making an informed hypothesis in response to an experiment. \n",
        "\n",
        "Answer: Add an useful activation function would work.\n",
        "\n"
      ]
    },
    {
      "metadata": {
        "id": "nqs4j6pqwTIo",
        "colab_type": "code",
        "outputId": "09ee8395-223c-4887-dac0-f8d505fd7aeb",
        "colab": {
          "base_uri": "https://localhost:8080/",
          "height": 34
        }
      },
      "cell_type": "code",
      "source": [
        "import keras\n",
        "keras.__version__"
      ],
      "execution_count": 9,
      "outputs": [
        {
          "output_type": "execute_result",
          "data": {
            "text/plain": [
              "'2.2.4'"
            ]
          },
          "metadata": {
            "tags": []
          },
          "execution_count": 9
        }
      ]
    },
    {
      "metadata": {
        "collapsed": true,
        "id": "FwTcV8c-wTI9",
        "colab_type": "text"
      },
      "cell_type": "markdown",
      "source": [
        "### Model specification\n",
        "\n",
        "Define the structure of your model and display it in the next section of code."
      ]
    },
    {
      "metadata": {
        "id": "r-jq1d3LwTI_",
        "colab_type": "code",
        "outputId": "0fc94b33-828d-4e55-b308-ec4c8a1f7a35",
        "colab": {
          "base_uri": "https://localhost:8080/",
          "height": 272
        }
      },
      "cell_type": "code",
      "source": [
        "from keras import layers\n",
        "from keras import models\n",
        "\n",
        "# Model definition\n",
        "model = models.Sequential()\n",
        "\n",
        "# Replace with your model:\n",
        "#model.add(layers.Conv2D(64, (5, 5), activation=layers.LeakyReLU(alpha = 0.5), padding = 'same', input_shape=(32, 32, 3),kernel_initializer='glorot_normal'))\n",
        "#model.add(layers.Conv2D(64, (3, 3), activation=layers.LeakyReLU(alpha = 0.5), padding = 'same',kernel_initializer='glorot_normal'))\n",
        "# We initially use Leaky ReLU as the ReLU nonlinearity and no activation function at output layer. However it doesn't work well.\n",
        "model.add(layers.Conv2D(64, (5, 5), activation=\"relu\", padding = 'same', input_shape=(32, 32, 3),kernel_initializer='glorot_normal'))\n",
        "model.add(layers.Conv2D(64, (3, 3), activation=\"relu\", padding = 'same',kernel_initializer='glorot_normal'))\n",
        "model.add(layers.Flatten())\n",
        "# model.add(layers.Dense(10,kernel_initializer='glorot_normal'))\n",
        "model.add(layers.Dense(10,activation=\"softmax\",kernel_initializer='glorot_normal'))\n",
        "model.summary()"
      ],
      "execution_count": 10,
      "outputs": [
        {
          "output_type": "stream",
          "text": [
            "_________________________________________________________________\n",
            "Layer (type)                 Output Shape              Param #   \n",
            "=================================================================\n",
            "conv2d_8 (Conv2D)            (None, 32, 32, 64)        4864      \n",
            "_________________________________________________________________\n",
            "conv2d_9 (Conv2D)            (None, 32, 32, 64)        36928     \n",
            "_________________________________________________________________\n",
            "flatten_4 (Flatten)          (None, 65536)             0         \n",
            "_________________________________________________________________\n",
            "dense_4 (Dense)              (None, 10)                655370    \n",
            "=================================================================\n",
            "Total params: 697,162\n",
            "Trainable params: 697,162\n",
            "Non-trainable params: 0\n",
            "_________________________________________________________________\n"
          ],
          "name": "stdout"
        }
      ]
    },
    {
      "metadata": {
        "id": "4bO1yi-gwTJj",
        "colab_type": "text"
      },
      "cell_type": "markdown",
      "source": [
        "### Prepare the data.  \n",
        "You don't need to change this section.  "
      ]
    },
    {
      "metadata": {
        "id": "tMxgankSwTJm",
        "colab_type": "code",
        "colab": {}
      },
      "cell_type": "code",
      "source": [
        "from keras.datasets import cifar10\n",
        "from keras.utils import to_categorical\n",
        "\n",
        "(train_images, train_labels), (test_images, test_labels) = cifar10.load_data()\n",
        "\n",
        "train_images = train_images.reshape((50000, 32, 32, 3))\n",
        "train_images = train_images.astype('float32') / 255\n",
        "\n",
        "test_images = test_images.reshape((10000, 32, 32, 3))\n",
        "test_images = test_images.astype('float32') / 255\n",
        "\n",
        "train_labels = to_categorical(train_labels)\n",
        "test_labels = to_categorical(test_labels)"
      ],
      "execution_count": 0,
      "outputs": []
    },
    {
      "metadata": {
        "id": "e85cMHOSKA1K",
        "colab_type": "text"
      },
      "cell_type": "markdown",
      "source": [
        "### Compile the model and test before training.   \n",
        "You don't need to change this section.  "
      ]
    },
    {
      "metadata": {
        "id": "9m0oHj0frct5",
        "colab_type": "code",
        "outputId": "453b2246-8ce7-48ac-c18d-5985fe5c96df",
        "colab": {
          "base_uri": "https://localhost:8080/",
          "height": 51
        }
      },
      "cell_type": "code",
      "source": [
        "model.compile(optimizer='rmsprop',\n",
        "              loss='categorical_crossentropy',\n",
        "              metrics=['accuracy'])\n",
        "\n",
        "test_loss, test_acc = model.evaluate(test_images, test_labels)\n",
        "print('Untrained accuracty = ' + str(test_acc))\n"
      ],
      "execution_count": 12,
      "outputs": [
        {
          "output_type": "stream",
          "text": [
            "10000/10000 [==============================] - 2s 192us/step\n",
            "Untrained accuracty = 0.0881\n"
          ],
          "name": "stdout"
        }
      ]
    },
    {
      "metadata": {
        "id": "6J3duiJPyOEK",
        "colab_type": "text"
      },
      "cell_type": "markdown",
      "source": [
        "### Train the model.  \n",
        "You don't need to change this section.    "
      ]
    },
    {
      "metadata": {
        "id": "rWuSq6bTwTJv",
        "colab_type": "code",
        "outputId": "203094f4-9b68-44f5-9706-117af415af3b",
        "colab": {
          "base_uri": "https://localhost:8080/",
          "height": 394
        }
      },
      "cell_type": "code",
      "source": [
        "\n",
        "num_epochs = 10\n",
        "history = model.fit(train_images, train_labels, validation_split=0.1, epochs=num_epochs, batch_size=64)"
      ],
      "execution_count": 13,
      "outputs": [
        {
          "output_type": "stream",
          "text": [
            "Train on 45000 samples, validate on 5000 samples\n",
            "Epoch 1/10\n",
            "45000/45000 [==============================] - 13s 290us/step - loss: 1.6117 - acc: 0.4379 - val_loss: 1.4373 - val_acc: 0.4848\n",
            "Epoch 2/10\n",
            "45000/45000 [==============================] - 13s 284us/step - loss: 1.1957 - acc: 0.5910 - val_loss: 1.2692 - val_acc: 0.5790\n",
            "Epoch 3/10\n",
            "45000/45000 [==============================] - 13s 284us/step - loss: 1.0206 - acc: 0.6534 - val_loss: 1.2158 - val_acc: 0.6076\n",
            "Epoch 4/10\n",
            "45000/45000 [==============================] - 13s 285us/step - loss: 0.8697 - acc: 0.7095 - val_loss: 1.4860 - val_acc: 0.5192\n",
            "Epoch 5/10\n",
            "45000/45000 [==============================] - 13s 285us/step - loss: 0.7406 - acc: 0.7544 - val_loss: 1.2471 - val_acc: 0.6136\n",
            "Epoch 6/10\n",
            "45000/45000 [==============================] - 13s 287us/step - loss: 0.6105 - acc: 0.7966 - val_loss: 1.2740 - val_acc: 0.6358\n",
            "Epoch 7/10\n",
            "45000/45000 [==============================] - 13s 286us/step - loss: 0.5003 - acc: 0.8341 - val_loss: 1.3044 - val_acc: 0.6394\n",
            "Epoch 8/10\n",
            "45000/45000 [==============================] - 13s 286us/step - loss: 0.4016 - acc: 0.8692 - val_loss: 1.5575 - val_acc: 0.6172\n",
            "Epoch 9/10\n",
            "45000/45000 [==============================] - 13s 285us/step - loss: 0.3161 - acc: 0.8977 - val_loss: 1.6720 - val_acc: 0.6140\n",
            "Epoch 10/10\n",
            "45000/45000 [==============================] - 13s 286us/step - loss: 0.2424 - acc: 0.9217 - val_loss: 2.5759 - val_acc: 0.5504\n"
          ],
          "name": "stdout"
        }
      ]
    },
    {
      "metadata": {
        "id": "hGV6pGa82Ut4",
        "colab_type": "text"
      },
      "cell_type": "markdown",
      "source": [
        "### Plot the loss and accuracy as a function of epoch. \n",
        "You don't need to change this section.  "
      ]
    },
    {
      "metadata": {
        "id": "d00PRGp8xTal",
        "colab_type": "code",
        "outputId": "29df0fb3-f3e4-4898-eea1-84ed24133102",
        "colab": {
          "base_uri": "https://localhost:8080/",
          "height": 294
        }
      },
      "cell_type": "code",
      "source": [
        "import matplotlib.pyplot as plt\n",
        "import numpy as np\n",
        "\n",
        "def plot_training(history):\n",
        "  ncols = 2\n",
        "  keywords = ['loss', 'acc']\n",
        "  names = ['loss', 'accuracy']\n",
        "  fig, axs = plt.subplots(nrows=1, ncols=ncols, figsize=(8, 4))\n",
        " \n",
        "  for ax, ind, keyword, name in zip(axs.flat, range(ncols), keywords, names):\n",
        "    ylim = [3, 1][ind]\n",
        "    data = history.history[keyword]\n",
        "    ax.plot(data)\n",
        "    ax.plot(history.history['val_' + keyword])\n",
        "    ax.set_title('model ' + name)\n",
        "    ax.set_xlabel('epoch')\n",
        "    ax.set_ylabel(name)\n",
        "    ax.set_xlim([0, len(data)-1])\n",
        "    ax.set_ylim([0, ylim])\n",
        "    ax.set_xticks(range(0, len(data), 2))\n",
        "    ax.set_yticks(np.linspace(0, ylim, 5))\n",
        "    ax.legend(['train', 'test'], loc='upper left')\n",
        "    \n",
        "  plt.show()\n",
        " \n",
        " \n",
        "plot_training(history)"
      ],
      "execution_count": 14,
      "outputs": [
        {
          "output_type": "display_data",
          "data": {
            "image/png": "[encoded data removed]",
            "text/plain": [
              "<Figure size 576x288 with 2 Axes>"
            ]
          },
          "metadata": {
            "tags": []
          }
        }
      ]
    },
    {
      "metadata": {
        "id": "Qm9H1kLUwTJ6",
        "colab_type": "text"
      },
      "cell_type": "markdown",
      "source": [
        "### Evaluate the trained model on the test data.\n",
        "\n",
        "You don't need to change this section.  "
      ]
    },
    {
      "metadata": {
        "id": "cZFpKvLewTJ7",
        "colab_type": "code",
        "outputId": "0bd41b4e-30e1-4063-c3f7-8a3b22744346",
        "colab": {
          "base_uri": "https://localhost:8080/",
          "height": 51
        }
      },
      "cell_type": "code",
      "source": [
        "test_loss, test_acc = model.evaluate(test_images, test_labels)\n",
        "print('Accuracy on test images is ' + str(test_acc))"
      ],
      "execution_count": 15,
      "outputs": [
        {
          "output_type": "stream",
          "text": [
            "10000/10000 [==============================] - 1s 146us/step\n",
            "Accuracy on test images is 0.5446\n"
          ],
          "name": "stdout"
        }
      ]
    }
  ]
}