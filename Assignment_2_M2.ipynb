{
  "nbformat": 4,
  "nbformat_minor": 0,
  "metadata": {
    "colab": {
      "name": "Assignment 2 M2.ipynb",
      "version": "0.3.2",
      "provenance": [],
      "collapsed_sections": []
    },
    "kernelspec": {
      "name": "python3",
      "display_name": "Python 3"
    },
    "accelerator": "TPU"
  },
  "cells": [
    {
      "metadata": {
        "id": "wHg6i-MrwyWB",
        "colab_type": "text"
      },
      "cell_type": "markdown",
      "source": [
        "## MA 598 Programming Assignment 2:  Due Monday, February 25, 8pm.\n",
        "\n",
        "### Model 2\n",
        "Team member names:  \n",
        "\n",
        "In this assignment we use a GRU together with\n",
        "\n",
        "* *Recurrent dropout*, a specific, built-in way to use dropout to fight overfitting in recurrent layers.\n",
        "\n",
        "**Model 1: **  Modify the model described in Chollet, Section 6.3.6 (GRU plus reccurent dropout) as follows: \n",
        "\n",
        "- use a skip connection that adds the baseline prediction of the same temperature 24 hours ago to the output of the GRU, \n",
        "- use only 16 nodes in the GRU instead of 32, and \n",
        "- use a lookback of 432 (3 days).\n",
        "\n",
        "**Model 2:** Extend Model 1 by encoding the date using 2 floating point numbers of the form (cos 2 π t/365, sin 2 π t/365), where t is the number of days from January 1. Likewise, encode the time of day using a similar format.  Include these values as input to the GRU + skip connection from Model 1. \n",
        "\n",
        "\n",
        "### To do:  \n",
        "1. Specify the model number above and indicate the team member names.\n",
        "- Specify your model structure below. \n",
        "- Restart kernel and run all.  \n",
        "- Answer the questions in the next text box - in this assignment for Model 2 only.\n",
        "- Print to pdf.\n",
        "- Combine the pdfs for the 3 models into a single pdf.\n",
        "- Submit on gradescope (indicate the start of each model and your team members on gradescope).  "
      ]
    },
    {
      "metadata": {
        "id": "UUqHpRkBS5nb",
        "colab_type": "text"
      },
      "cell_type": "markdown",
      "source": [
        "### Questions (Model 2 only):  \n",
        "Give brief (one or two sentence) answers to the questions below.\n",
        "\n",
        "**Q1:** What other data preprocessing could you do that might improve accuracy? \n",
        "\n",
        "**Answer: **\n",
        "1. This is typical time series system. Therefore, a preprocessing like Fourier Transform may help to improve a lot.\n",
        "2. We may also change the temperature into several classes, like scaled resolution. The model then becomes a classification than regression.\n",
        "\n",
        "**Q2: ** Why do you think that dropout didn't really improve the best test performance in the comparison in the original code from Section 6.3.6?  \n",
        "\n",
        "**Answer: **\n",
        "1. The model is not deep and complex enough to have overfitting problem.\n",
        "2. The inputs have been normalized before trainning, so there is not much irregular inputs.\n",
        "3. The number of training epoches are small. If increase it, dropout may effect more.\n"
      ]
    },
    {
      "metadata": {
        "id": "p8r1E-ZWgoPm",
        "colab_type": "code",
        "outputId": "b617147b-a0c9-4697-e347-f2b8844108ce",
        "colab": {
          "base_uri": "https://localhost:8080/",
          "height": 35
        }
      },
      "cell_type": "code",
      "source": [
        "import keras\n",
        "keras.__version__"
      ],
      "execution_count": 0,
      "outputs": [
        {
          "output_type": "execute_result",
          "data": {
            "text/plain": [
              "'2.2.4'"
            ]
          },
          "metadata": {
            "tags": []
          },
          "execution_count": 22
        }
      ]
    },
    {
      "metadata": {
        "id": "tVNXhrapgoP0",
        "colab_type": "text"
      },
      "cell_type": "markdown",
      "source": [
        "## Recurrent neural networks for weather prediction\n",
        "\n",
        "This notebook adapts the code samples found in Chapter 6, Section 3 of [Deep Learning with Python](https://www.manning.com/books/deep-learning-with-python?a_aid=keras&a_bid=76564dff). Note that the original text features far more content, in particular further explanations and figures: in this notebook, you will only find source code and related comments.\n",
        "\n",
        "---\n",
        "\n"
      ]
    },
    {
      "metadata": {
        "id": "2lpEeW_bgoP2",
        "colab_type": "text"
      },
      "cell_type": "markdown",
      "source": [
        "## A temperature forecasting problem\n",
        "\n",
        "This model uses weather \n",
        "timeseries dataset recorded at the Weather Station at the Max-Planck-Institute for Biogeochemistry in Jena, Germany: http://www.bgc-jena.mpg.de/wetter/.\n",
        "\n",
        "In this dataset, fourteen different quantities (such air temperature, atmospheric pressure, humidity, wind direction, etc.) are recorded \n",
        "every ten minutes, over several years. The original data goes back to 2003, but we limit ourselves to data from 2009-2016. This dataset is \n",
        "perfect for learning to work with numerical timeseries. We will use it to build a model that takes as input some data from the recent past (a \n",
        "few days worth of data points) and predicts the air temperature 24 hours in the future."
      ]
    },
    {
      "metadata": {
        "id": "7A7JSD2tgoP4",
        "colab_type": "text"
      },
      "cell_type": "markdown",
      "source": [
        "First get access to the data:"
      ]
    },
    {
      "metadata": {
        "id": "g2dXPhm7sMxz",
        "colab_type": "code",
        "outputId": "66ed8863-b390-432d-93e1-6e129d908b0d",
        "colab": {
          "base_uri": "https://localhost:8080/",
          "height": 35
        }
      },
      "cell_type": "code",
      "source": [
        "from google.colab import drive\n",
        "drive.mount('/content/gdrive')"
      ],
      "execution_count": 0,
      "outputs": [
        {
          "output_type": "stream",
          "text": [
            "Drive already mounted at /content/gdrive; to attempt to forcibly remount, call drive.mount(\"/content/gdrive\", force_remount=True).\n"
          ],
          "name": "stdout"
        }
      ]
    },
    {
      "metadata": {
        "id": "CRGW3KyAR63r",
        "colab_type": "text"
      },
      "cell_type": "markdown",
      "source": [
        "Look at the header and a few lines to understand the data better.  "
      ]
    },
    {
      "metadata": {
        "id": "R6b8z4uwgoP5",
        "colab_type": "code",
        "outputId": "2cd0664c-aa99-4a35-86dc-b8c73cb7735d",
        "colab": {
          "base_uri": "https://localhost:8080/",
          "height": 72
        }
      },
      "cell_type": "code",
      "source": [
        "import os\n",
        "\n",
        "data_dir = '/content/gdrive/My Drive/Datasets'\n",
        "fname = os.path.join(data_dir, 'jena_climate_2009_2016.csv')\n",
        "\n",
        "f = open(fname)\n",
        "data = f.read()\n",
        "f.close()\n",
        "\n",
        "lines = data.split('\\n')\n",
        "header = lines[0].split(',')\n",
        "lines = lines[1:]\n",
        "\n",
        "print(header)\n",
        "print(len(lines))"
      ],
      "execution_count": 0,
      "outputs": [
        {
          "output_type": "stream",
          "text": [
            "['\"Date Time\"', '\"p (mbar)\"', '\"T (degC)\"', '\"Tpot (K)\"', '\"Tdew (degC)\"', '\"rh (%)\"', '\"VPmax (mbar)\"', '\"VPact (mbar)\"', '\"VPdef (mbar)\"', '\"sh (g/kg)\"', '\"H2OC (mmol/mol)\"', '\"rho (g/m**3)\"', '\"wv (m/s)\"', '\"max. wv (m/s)\"', '\"wd (deg)\"']\n",
            "420551\n"
          ],
          "name": "stdout"
        }
      ]
    },
    {
      "metadata": {
        "id": "gd8Mo15wFo1P",
        "colab_type": "code",
        "outputId": "83f662cd-edd6-49fe-ab62-9d2d33dd464e",
        "colab": {
          "base_uri": "https://localhost:8080/",
          "height": 55
        }
      },
      "cell_type": "code",
      "source": [
        "print(lines[1000:1003])"
      ],
      "execution_count": 0,
      "outputs": [
        {
          "output_type": "stream",
          "text": [
            "['07.01.2009 22:50:00,997.79,-10.79,262.54,-11.84,91.90,2.68,2.46,0.22,1.53,2.47,1323.57,0.24,0.63,139.40', '07.01.2009 23:00:00,997.88,-10.68,262.64,-11.74,91.80,2.70,2.48,0.22,1.55,2.48,1323.13,0.10,0.50,184.20', '07.01.2009 23:10:00,998.05,-10.99,262.32,-12.14,91.10,2.63,2.40,0.23,1.50,2.40,1324.97,0.20,0.63,146.60']\n"
          ],
          "name": "stdout"
        }
      ]
    },
    {
      "metadata": {
        "id": "L5jLNcUGgoP_",
        "colab_type": "text"
      },
      "cell_type": "markdown",
      "source": [
        "Convert all of these 420,551 lines of data into a Numpy array:"
      ]
    },
    {
      "metadata": {
        "id": "hjGJdAw7goQB",
        "colab_type": "code",
        "colab": {}
      },
      "cell_type": "code",
      "source": [
        "import numpy as np\n",
        "import datetime as dt\n",
        "import time\n",
        "\n",
        "#float_data = np.zeros((len(lines), len(header) - 1))\n",
        "# Add extra element\n",
        "float_data = np.zeros((len(lines), len(header)+3))\n",
        "values = np.zeros(len(header)+3)\n",
        "for i, line in enumerate(lines):\n",
        "    a = dt.datetime.strptime(line.split(',')[0],'%d.%m.%Y %H:%M:%S')\n",
        "    d = float(a.timetuple().tm_yday)\n",
        "    values[0] = np.cos(2*np.pi*d/365)\n",
        "    values[1] = np.sin(2*np.pi*d/365)\n",
        "    t = float(a.timetuple().tm_hour*60+a.timetuple().tm_min)\n",
        "    values[2] = np.cos(2*np.pi*t/24/60)\n",
        "    values[3] = np.sin(2*np.pi*t/24/60)\n",
        "    values[4:] = [float(x) for x in line.split(',')[1:]]\n",
        "    # Change date information into required format\n",
        "    float_data[i, :] = values\n",
        "    "
      ],
      "execution_count": 0,
      "outputs": []
    },
    {
      "metadata": {
        "id": "b81QVldCF0jz",
        "colab_type": "code",
        "outputId": "24862579-8736-42d7-d8f9-33118bca5fe0",
        "colab": {
          "base_uri": "https://localhost:8080/",
          "height": 277
        }
      },
      "cell_type": "code",
      "source": [
        "print(float_data[1000:1003])"
      ],
      "execution_count": 0,
      "outputs": [
        {
          "output_type": "stream",
          "text": [
            "[[ 9.92748722e-01  1.20208045e-01  9.53716951e-01 -3.00705800e-01\n",
            "   9.97790000e+02 -1.07900000e+01  2.62540000e+02 -1.18400000e+01\n",
            "   9.19000000e+01  2.68000000e+00  2.46000000e+00  2.20000000e-01\n",
            "   1.53000000e+00  2.47000000e+00  1.32357000e+03  2.40000000e-01\n",
            "   6.30000000e-01  1.39400000e+02]\n",
            " [ 9.92748722e-01  1.20208045e-01  9.65925826e-01 -2.58819045e-01\n",
            "   9.97880000e+02 -1.06800000e+01  2.62640000e+02 -1.17400000e+01\n",
            "   9.18000000e+01  2.70000000e+00  2.48000000e+00  2.20000000e-01\n",
            "   1.55000000e+00  2.48000000e+00  1.32313000e+03  1.00000000e-01\n",
            "   5.00000000e-01  1.84200000e+02]\n",
            " [ 9.92748722e-01  1.20208045e-01  9.76296007e-01 -2.16439614e-01\n",
            "   9.98050000e+02 -1.09900000e+01  2.62320000e+02 -1.21400000e+01\n",
            "   9.11000000e+01  2.63000000e+00  2.40000000e+00  2.30000000e-01\n",
            "   1.50000000e+00  2.40000000e+00  1.32497000e+03  2.00000000e-01\n",
            "   6.30000000e-01  1.46600000e+02]]\n"
          ],
          "name": "stdout"
        }
      ]
    },
    {
      "metadata": {
        "id": "97qHRCELgoQV",
        "colab_type": "text"
      },
      "cell_type": "markdown",
      "source": [
        "## Preparing the data\n",
        "\n",
        "\n",
        "The exact formulation of our problem will be the following: given data going as far back as `lookback` timesteps (a timestep is 10 minutes) \n",
        "and sampled every `steps` timesteps, can we predict the temperature in `delay` timesteps?\n",
        "\n",
        "We preprocess the data by subtracting the mean of each timeseries and dividing by the standard deviation. We plan on using the first \n",
        "200,000 timesteps as training data, so we compute the mean and standard deviation only on this fraction of the data:"
      ]
    },
    {
      "metadata": {
        "id": "_k5_M3cOgoQW",
        "colab_type": "code",
        "colab": {}
      },
      "cell_type": "code",
      "source": [
        "mean = float_data[:200000].mean(axis=0)\n",
        "float_data -= mean\n",
        "std = float_data[:200000].std(axis=0)\n",
        "float_data /= std"
      ],
      "execution_count": 0,
      "outputs": []
    },
    {
      "metadata": {
        "id": "U3r_D2SjgoQa",
        "colab_type": "text"
      },
      "cell_type": "markdown",
      "source": [
        "\n",
        "Now here is the data generator that we will use. It yields a tuple `(samples, targets)` where `samples` is one batch of input data and \n",
        "`targets` is the corresponding array of target temperatures. It takes the following arguments:\n",
        "\n",
        "* `data`: The original array of floating point data, which we just normalized in the code snippet above.\n",
        "* `lookback`: How many timesteps back should our input data go.\n",
        "* `delay`: How many timesteps in the future should our target be.\n",
        "* `min_index` and `max_index`: Indices in the `data` array that delimit which timesteps to draw from. This is useful for keeping a segment \n",
        "of the data for validation and another one for testing.\n",
        "* `shuffle`: Whether to shuffle our samples or draw them in chronological order.\n",
        "* `batch_size`: The number of samples per batch.\n",
        "* `step`: The period, in timesteps, at which we sample data. We will set it 6 in order to draw one data point every hour."
      ]
    },
    {
      "metadata": {
        "id": "yxUhBRARgoQc",
        "colab_type": "code",
        "colab": {}
      },
      "cell_type": "code",
      "source": [
        "def generator(data, lookback, delay, min_index, max_index,\n",
        "              shuffle=False, batch_size=128, step=6):\n",
        "    if max_index is None:\n",
        "        max_index = len(data) - delay - 1\n",
        "    i = min_index + lookback\n",
        "    while 1:\n",
        "        if shuffle:\n",
        "            rows = np.random.randint(\n",
        "                min_index + lookback, max_index, size=batch_size)\n",
        "        else:\n",
        "            if i + batch_size >= max_index:\n",
        "                i = min_index + lookback\n",
        "            rows = np.arange(i, min(i + batch_size, max_index))\n",
        "            i += len(rows)\n",
        "\n",
        "        samples = np.zeros((len(rows),\n",
        "                           lookback // step,\n",
        "                           data.shape[-1]))\n",
        "        targets = np.zeros((len(rows),))\n",
        "        for j, row in enumerate(rows):\n",
        "            indices = range(rows[j] - lookback, rows[j], step)\n",
        "            samples[j] = data[indices]\n",
        "            targets[j] = data[rows[j] + delay][5] # change to 5 as temperature\n",
        "        yield samples, targets"
      ],
      "execution_count": 0,
      "outputs": []
    },
    {
      "metadata": {
        "id": "Eu5fxIqlgoQm",
        "colab_type": "text"
      },
      "cell_type": "markdown",
      "source": [
        "\n",
        "Now let's use our abstract generator function to instantiate three generators, one for training, one for validation and one for testing. \n",
        "Each will look at different temporal segments of the original data: the training generator looks at the first 200,000 timesteps, the \n",
        "validation generator looks at the following 100,000, and the test generator looks at the remainder."
      ]
    },
    {
      "metadata": {
        "id": "5kKT16HrgoQm",
        "colab_type": "code",
        "colab": {}
      },
      "cell_type": "code",
      "source": [
        "# lookback = 720\n",
        "# Modified by Model 1 c)\n",
        "lookback = 432\n",
        "step = 6\n",
        "delay = 144 # This is a 24 hours delay\n",
        "batch_size = 128\n",
        "\n",
        "train_gen = generator(float_data,\n",
        "                      lookback=lookback,\n",
        "                      delay=delay,\n",
        "                      min_index=0,\n",
        "                      max_index=200000,\n",
        "                      shuffle=True,\n",
        "                      step=step, \n",
        "                      batch_size=batch_size)\n",
        "val_gen = generator(float_data,\n",
        "                    lookback=lookback,\n",
        "                    delay=delay,\n",
        "                    min_index=200001,\n",
        "                    max_index=300000,\n",
        "                    step=step,\n",
        "                    batch_size=batch_size)\n",
        "test_gen = generator(float_data,\n",
        "                     lookback=lookback,\n",
        "                     delay=delay,\n",
        "                     min_index=300001,\n",
        "                     max_index=None,\n",
        "                     step=step,\n",
        "                     batch_size=batch_size)\n",
        "\n",
        "# This is how many steps to draw from `val_gen`\n",
        "# in order to see the whole validation set:\n",
        "val_steps = (300000 - 200001 - lookback) // batch_size\n",
        "\n",
        "# This is how many steps to draw from `test_gen`\n",
        "# in order to see the whole test set:\n",
        "test_steps = (len(float_data) - 300001 - lookback) // batch_size"
      ],
      "execution_count": 0,
      "outputs": []
    },
    {
      "metadata": {
        "id": "APgzTXL-goRK",
        "colab_type": "text"
      },
      "cell_type": "markdown",
      "source": [
        "## A recurrent model\n",
        "\n",
        "\n",
        "Instead of the `LSTM` layer introduced in the previous section, we will use the `GRU` layer, developed by Cho et al. in 2014. `GRU` layers \n",
        "(which stands for \"gated recurrent unit\") work by leveraging the same principle as LSTM, but they are somewhat streamlined and thus cheaper \n",
        "to run, albeit they may not have quite as much representational power as LSTM. This trade-off between computational expensiveness and \n",
        "representational power is seen everywhere in machine learning.\n",
        "\n",
        "The model below uses recurrent dropout to help prevent overfitting.  "
      ]
    },
    {
      "metadata": {
        "id": "0VKAkSyggoRZ",
        "colab_type": "code",
        "outputId": "f37fc14e-7b6a-4b11-b160-19e04ed842f1",
        "colab": {
          "base_uri": "https://localhost:8080/",
          "height": 735
        }
      },
      "cell_type": "code",
      "source": [
        "from keras.models import Sequential\n",
        "from keras import layers, Input, Model\n",
        "from keras.optimizers import RMSprop\n",
        "\n",
        "baseline = Sequential()\n",
        "baseline.add(layers.Flatten(input_shape=(lookback // step, float_data.shape[-1])))\n",
        "baseline.add(layers.Dense(32, activation='relu'))\n",
        "baseline.add(layers.Dense(1))\n",
        "\n",
        "model = Sequential()\n",
        "#model.add(layers.GRU(32,\n",
        "#                     dropout=0.2,\n",
        "#                     recurrent_dropout=0.2,\n",
        "#                     input_shape=(None, float_data.shape[-1])))\n",
        "#model.add(layers.Dense(1))\n",
        "# Modified by Model 1 b)\n",
        "\n",
        "Data_input = Input(shape = [None, float_data.shape[-1]])\n",
        "GRU_layer = layers.GRU(16,dropout=0.2,recurrent_dropout=0.2,\n",
        "                       input_shape=Data_input.shape)(Data_input)\n",
        "# Temperature from 24 hour ago\n",
        "T24_input = layers.Lambda(lambda x: x[:,-1,5])(Data_input)\n",
        "\n",
        "Dense_layer = layers.Dense(1)(GRU_layer)\n",
        "Merge_layer = layers.add([Dense_layer, T24_input])\n",
        "\n",
        "model = Model(inputs = Data_input, outputs = Merge_layer)\n",
        "\n",
        "model.summary()\n",
        "\n",
        "from keras.utils.vis_utils import plot_model\n",
        "# Plot model graph\n",
        "plot_model(model, show_shapes=True, show_layer_names=True, to_file='model.png')\n",
        "from IPython.display import Image\n",
        "Image(filename='model.png')\n"
      ],
      "execution_count": 0,
      "outputs": [
        {
          "output_type": "stream",
          "text": [
            "__________________________________________________________________________________________________\n",
            "Layer (type)                    Output Shape         Param #     Connected to                     \n",
            "==================================================================================================\n",
            "input_2 (InputLayer)            (None, None, 18)     0                                            \n",
            "__________________________________________________________________________________________________\n",
            "gru_2 (GRU)                     (None, 16)           1680        input_2[0][0]                    \n",
            "__________________________________________________________________________________________________\n",
            "dense_8 (Dense)                 (None, 1)            17          gru_2[0][0]                      \n",
            "__________________________________________________________________________________________________\n",
            "lambda_2 (Lambda)               (None,)              0           input_2[0][0]                    \n",
            "__________________________________________________________________________________________________\n",
            "add_2 (Add)                     (None, 1)            0           dense_8[0][0]                    \n",
            "                                                                 lambda_2[0][0]                   \n",
            "==================================================================================================\n",
            "Total params: 1,697\n",
            "Trainable params: 1,697\n",
            "Non-trainable params: 0\n",
            "__________________________________________________________________________________________________\n"
          ],
          "name": "stdout"
        },
        {
          "output_type": "execute_result",
          "data": {
            "image/png": "[encoded data removed]",
            "text/plain": [
              "<IPython.core.display.Image object>"
            ]
          },
          "metadata": {
            "tags": []
          },
          "execution_count": 31
        }
      ]
    },
    {
      "metadata": {
        "id": "BblYefbtkrBJ",
        "colab_type": "code",
        "outputId": "619249ba-0128-4050-af1f-774453777a85",
        "colab": {
          "base_uri": "https://localhost:8080/",
          "height": 1404
        }
      },
      "cell_type": "code",
      "source": [
        "\n",
        "model.compile(optimizer=RMSprop(), loss='mae')\n",
        "history = model.fit_generator(train_gen,\n",
        "                              steps_per_epoch=500,\n",
        "                              epochs=40,\n",
        "                              validation_data=val_gen,\n",
        "                              validation_steps=val_steps)"
      ],
      "execution_count": 0,
      "outputs": [
        {
          "output_type": "stream",
          "text": [
            "Epoch 1/40\n",
            "500/500 [==============================] - 31s 62ms/step - loss: 0.3105 - val_loss: 0.2642\n",
            "Epoch 2/40\n",
            "500/500 [==============================] - 30s 61ms/step - loss: 0.2910 - val_loss: 0.2621\n",
            "Epoch 3/40\n",
            "500/500 [==============================] - 30s 60ms/step - loss: 0.2873 - val_loss: 0.2584\n",
            "Epoch 4/40\n",
            "500/500 [==============================] - 30s 60ms/step - loss: 0.2844 - val_loss: 0.2581\n",
            "Epoch 5/40\n",
            "500/500 [==============================] - 30s 60ms/step - loss: 0.2823 - val_loss: 0.2575\n",
            "Epoch 6/40\n",
            "500/500 [==============================] - 30s 60ms/step - loss: 0.2791 - val_loss: 0.2590\n",
            "Epoch 7/40\n",
            "500/500 [==============================] - 30s 60ms/step - loss: 0.2781 - val_loss: 0.2579\n",
            "Epoch 8/40\n",
            "500/500 [==============================] - 30s 60ms/step - loss: 0.2787 - val_loss: 0.2563\n",
            "Epoch 9/40\n",
            "500/500 [==============================] - 30s 61ms/step - loss: 0.2780 - val_loss: 0.2586\n",
            "Epoch 10/40\n",
            "500/500 [==============================] - 30s 60ms/step - loss: 0.2760 - val_loss: 0.2566\n",
            "Epoch 11/40\n",
            "500/500 [==============================] - 30s 60ms/step - loss: 0.2758 - val_loss: 0.2560\n",
            "Epoch 12/40\n",
            "500/500 [==============================] - 30s 61ms/step - loss: 0.2747 - val_loss: 0.2556\n",
            "Epoch 13/40\n",
            "500/500 [==============================] - 30s 60ms/step - loss: 0.2735 - val_loss: 0.2588\n",
            "Epoch 14/40\n",
            "500/500 [==============================] - 30s 60ms/step - loss: 0.2720 - val_loss: 0.2563\n",
            "Epoch 15/40\n",
            "500/500 [==============================] - 30s 60ms/step - loss: 0.2722 - val_loss: 0.2566\n",
            "Epoch 16/40\n",
            "500/500 [==============================] - 30s 60ms/step - loss: 0.2729 - val_loss: 0.2551\n",
            "Epoch 17/40\n",
            "500/500 [==============================] - 30s 61ms/step - loss: 0.2714 - val_loss: 0.2553\n",
            "Epoch 18/40\n",
            "500/500 [==============================] - 30s 61ms/step - loss: 0.2700 - val_loss: 0.2549\n",
            "Epoch 19/40\n",
            "500/500 [==============================] - 31s 61ms/step - loss: 0.2716 - val_loss: 0.2566\n",
            "Epoch 20/40\n",
            "500/500 [==============================] - 32s 64ms/step - loss: 0.2705 - val_loss: 0.2571\n",
            "Epoch 21/40\n",
            "500/500 [==============================] - 31s 63ms/step - loss: 0.2689 - val_loss: 0.2551\n",
            "Epoch 22/40\n",
            "500/500 [==============================] - 32s 64ms/step - loss: 0.2697 - val_loss: 0.2552\n",
            "Epoch 23/40\n",
            "500/500 [==============================] - 31s 62ms/step - loss: 0.2703 - val_loss: 0.2554\n",
            "Epoch 24/40\n",
            "500/500 [==============================] - 30s 60ms/step - loss: 0.2689 - val_loss: 0.2571\n",
            "Epoch 25/40\n",
            "500/500 [==============================] - 30s 60ms/step - loss: 0.2690 - val_loss: 0.2549\n",
            "Epoch 26/40\n",
            "500/500 [==============================] - 30s 60ms/step - loss: 0.2687 - val_loss: 0.2554\n",
            "Epoch 27/40\n",
            "500/500 [==============================] - 30s 61ms/step - loss: 0.2685 - val_loss: 0.2561\n",
            "Epoch 28/40\n",
            "500/500 [==============================] - 30s 61ms/step - loss: 0.2679 - val_loss: 0.2558\n",
            "Epoch 29/40\n",
            "500/500 [==============================] - 31s 61ms/step - loss: 0.2678 - val_loss: 0.2559\n",
            "Epoch 30/40\n",
            "500/500 [==============================] - 31s 62ms/step - loss: 0.2665 - val_loss: 0.2539\n",
            "Epoch 31/40\n",
            "500/500 [==============================] - 30s 61ms/step - loss: 0.2669 - val_loss: 0.2528\n",
            "Epoch 32/40\n",
            "500/500 [==============================] - 30s 61ms/step - loss: 0.2652 - val_loss: 0.2537\n",
            "Epoch 33/40\n",
            "500/500 [==============================] - 30s 60ms/step - loss: 0.2677 - val_loss: 0.2524\n",
            "Epoch 34/40\n",
            "500/500 [==============================] - 30s 60ms/step - loss: 0.2669 - val_loss: 0.2531\n",
            "Epoch 35/40\n",
            "500/500 [==============================] - 30s 60ms/step - loss: 0.2651 - val_loss: 0.2534\n",
            "Epoch 36/40\n",
            "500/500 [==============================] - 30s 60ms/step - loss: 0.2658 - val_loss: 0.2538\n",
            "Epoch 37/40\n",
            "500/500 [==============================] - 30s 60ms/step - loss: 0.2657 - val_loss: 0.2529\n",
            "Epoch 38/40\n",
            "500/500 [==============================] - 30s 60ms/step - loss: 0.2652 - val_loss: 0.2556\n",
            "Epoch 39/40\n",
            "500/500 [==============================] - 30s 60ms/step - loss: 0.2651 - val_loss: 0.2539\n",
            "Epoch 40/40\n",
            "500/500 [==============================] - 30s 61ms/step - loss: 0.2652 - val_loss: 0.2535\n"
          ],
          "name": "stdout"
        }
      ]
    },
    {
      "metadata": {
        "id": "ocgxmgoKgoRh",
        "colab_type": "code",
        "outputId": "35bedba7-c993-401e-c745-9cf166131b34",
        "colab": {
          "base_uri": "https://localhost:8080/",
          "height": 363
        }
      },
      "cell_type": "code",
      "source": [
        "loss = history.history['loss']\n",
        "val_loss = history.history['val_loss']\n",
        "\n",
        "epochs = range(len(loss))\n",
        "\n",
        "import matplotlib.pyplot as plt\n",
        "\n",
        "plt.figure()\n",
        "\n",
        "plt.plot(epochs, loss, 'bo', label='Training loss')\n",
        "plt.plot(epochs, val_loss, 'b', label='Validation loss')\n",
        "plt.title('Training and validation loss')\n",
        "plt.legend()\n",
        "\n",
        "plt.show()"
      ],
      "execution_count": 0,
      "outputs": [
        {
          "output_type": "display_data",
          "data": {
            "image/png": "[encoded data removed]",
            "text/plain": [
              "<Figure size 576x396 with 1 Axes>"
            ]
          },
          "metadata": {
            "tags": []
          }
        }
      ]
    }
  ]
}